{
 "cells": [
  {
   "cell_type": "markdown",
   "metadata": {},
   "source": [
    "# Part B\n",
    "\n",
    "The attached dataset `data.csv` contains 20 feature variables `X1` - `X20` and a target variable `Y`.\n",
    "\n",
    "Question 1 - 5 Points\n",
    "\n",
    "Question 2 - 4 Points"
   ]
  },
  {
   "cell_type": "markdown",
   "metadata": {
    "vscode": {
     "languageId": "plaintext"
    }
   },
   "source": [
    "##### Question 1a\n",
    "Predict Y using a single feature through Simple Linear Regression.\n",
    "\n",
    "(Write code)"
   ]
  },
  {
   "cell_type": "code",
   "execution_count": null,
   "metadata": {},
   "outputs": [],
   "source": []
  },
  {
   "cell_type": "markdown",
   "metadata": {},
   "source": [
    "##### Question 1b\n",
    "  Which 3 input variables will predict it with the least Mean Square Error (provide the MSE for each of these)?\n",
    "  \n",
    "  (Answer in the textbox)"
   ]
  },
  {
   "cell_type": "markdown",
   "metadata": {},
   "source": [
    "##### Question 1c\n",
    "\n",
    "Is there a way to find which variables to use without checking the MSE for each of the 20 features? \n",
    "\n",
    "(Answer in the textbox)"
   ]
  },
  {
   "cell_type": "markdown",
   "metadata": {},
   "source": [
    "##### Question 1d\n",
    "\n",
    "What other metrics can we use to determine goodness-of-fit?\n",
    "\n",
    "(Answer in the textbox)"
   ]
  },
  {
   "cell_type": "markdown",
   "metadata": {},
   "source": [
    "##### Question 2a\n",
    "\n",
    "We wish to select the most relevant features to use for Multiple Linear Regression. Use a regularization technique to determine which of the input features significantly affect the target variable.\n",
    "\n",
    "(Write code)"
   ]
  },
  {
   "cell_type": "code",
   "execution_count": null,
   "metadata": {},
   "outputs": [],
   "source": []
  },
  {
   "cell_type": "markdown",
   "metadata": {},
   "source": [
    "##### Question 2b\n",
    "\n",
    "Which regularization technique did you use and why? Which features did you select?\n",
    "\n",
    "(Answer in the textbox)"
   ]
  }
 ],
 "metadata": {
  "language_info": {
   "name": "python"
  }
 },
 "nbformat": 4,
 "nbformat_minor": 2
}
